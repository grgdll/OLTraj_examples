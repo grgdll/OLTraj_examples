{
 "cells": [
  {
   "cell_type": "code",
   "execution_count": 1,
   "metadata": {},
   "outputs": [
    {
     "data": {
      "text/html": [
       "<style>.container { width:100% !important; }</style>"
      ],
      "text/plain": [
       "<IPython.core.display.HTML object>"
      ]
     },
     "metadata": {},
     "output_type": "display_data"
    }
   ],
   "source": [
    "# # this is to make the Jupyter notebook as wide as the screen (on the Mac at least)\n",
    "from IPython.core.display import display, HTML\n",
    "display(HTML(\"<style>.container { width:100% !important; }</style>\"))\n",
    "%config InlineBackend.figure_format ='retina'"
   ]
  },
  {
   "cell_type": "markdown",
   "metadata": {},
   "source": [
    "# OLTraj Example 1: Lagrangian trajectories along a cruise track"
   ]
  },
  {
   "cell_type": "markdown",
   "metadata": {},
   "source": [
    "## Objective\n",
    "Given a ship track (in UTC_time, latitude and longitude), extract and plot trajectories (backward and forward) along the track. "
   ]
  },
  {
   "cell_type": "markdown",
   "metadata": {},
   "source": [
    "## Input data: \n",
    "Cruise track (included in the Input directory)\n"
   ]
  },
  {
   "cell_type": "markdown",
   "metadata": {},
   "source": [
    "## Code:"
   ]
  },
  {
   "cell_type": "markdown",
   "metadata": {},
   "source": [
    "### Import needed modules"
   ]
  },
  {
   "cell_type": "code",
   "execution_count": 2,
   "metadata": {},
   "outputs": [],
   "source": [
    "import numpy as np\n",
    "import xarray as xr\n",
    "import matplotlib.pyplot as plt\n",
    "import cartopy.crs as ccrs\n",
    "import cartopy.feature as cfeature\n",
    "import glob\n",
    "import pandas as pd\n",
    "\n",
    "import matplotlib.ticker as mticker\n",
    "from cartopy.mpl.gridliner import LONGITUDE_FORMATTER, LATITUDE_FORMATTER\n",
    "from cartopy.util import add_cyclic_point\n",
    "from matplotlib import cm\n",
    "from mpl_toolkits.axes_grid1 import make_axes_locatable\n",
    "\n"
   ]
  },
  {
   "cell_type": "markdown",
   "metadata": {},
   "source": [
    "### Read cruise track"
   ]
  },
  {
   "cell_type": "code",
   "execution_count": 3,
   "metadata": {},
   "outputs": [],
   "source": [
    "## this input file shoud look like this (it's important to keep the same exact names for the column labels):\n",
    "## (Note also that the DateTime field is in UTC)\n",
    "# DateTime_UTC,Latitude_degreesN,Longitude_degreesE\n",
    "# 2017-09-23  17:46,50.06083333,-3.343666667\n",
    "# 2017-09-24  11:21,48.92683333,-7.6235\n",
    "# 2017-09-25  03:57,47.269,-11.01\n",
    "# 2017-09-25  12:04,46.68633333,-12.00016667\n",
    "# ...\n",
    "\n",
    "track = pd.read_csv(\"../Input/cruise_track.csv\")\n",
    "track['DateTime_UTC'] = pd.to_datetime(track['DateTime_UTC']) \n",
    "\n",
    "# remove some of the stations to speed the example up\n",
    "track = track.iloc[0::3,:]"
   ]
  },
  {
   "cell_type": "markdown",
   "metadata": {},
   "source": [
    "### Extract OLTraj trajectories corresponding to cruise track"
   ]
  },
  {
   "cell_type": "code",
   "execution_count": null,
   "metadata": {},
   "outputs": [
    {
     "name": "stdout",
     "output_type": "stream",
     "text": [
      "Reading OLTraj file: http://dap.ceda.ac.uk/thredds/dodsC/neodc/oltraj/data/v2.2/2017/20170923_oltraj_uv_global.nc\n",
      "Reading OLTraj file: http://dap.ceda.ac.uk/thredds/dodsC/neodc/oltraj/data/v2.2/2017/20170925_oltraj_uv_global.nc\n",
      "Reading OLTraj file: http://dap.ceda.ac.uk/thredds/dodsC/neodc/oltraj/data/v2.2/2017/20170927_oltraj_uv_global.nc\n",
      "Reading OLTraj file: http://dap.ceda.ac.uk/thredds/dodsC/neodc/oltraj/data/v2.2/2017/20170928_oltraj_uv_global.nc\n",
      "Reading OLTraj file: http://dap.ceda.ac.uk/thredds/dodsC/neodc/oltraj/data/v2.2/2017/20170930_oltraj_uv_global.nc\n",
      "Reading OLTraj file: http://dap.ceda.ac.uk/thredds/dodsC/neodc/oltraj/data/v2.2/2017/20171002_oltraj_uv_global.nc\n",
      "Reading OLTraj file: http://dap.ceda.ac.uk/thredds/dodsC/neodc/oltraj/data/v2.2/2017/20171003_oltraj_uv_global.nc\n",
      "Reading OLTraj file: http://dap.ceda.ac.uk/thredds/dodsC/neodc/oltraj/data/v2.2/2017/20171004_oltraj_uv_global.nc\n",
      "Reading OLTraj file: http://dap.ceda.ac.uk/thredds/dodsC/neodc/oltraj/data/v2.2/2017/20171006_oltraj_uv_global.nc\n",
      "Reading OLTraj file: http://dap.ceda.ac.uk/thredds/dodsC/neodc/oltraj/data/v2.2/2017/20171007_oltraj_uv_global.nc\n",
      "Reading OLTraj file: http://dap.ceda.ac.uk/thredds/dodsC/neodc/oltraj/data/v2.2/2017/20171008_oltraj_uv_global.nc\n"
     ]
    }
   ],
   "source": [
    "# intialise arrays that will store the trajectories\n",
    "trajlon = np.full((len(track), 59), np.nan)\n",
    "trajlat = np.full((len(track), 59), np.nan)\n",
    "\n",
    "OLTraj_THREDDS_string = 'http://dap.ceda.ac.uk/thredds/dodsC/neodc/oltraj/data/v2.2/'\n",
    "\n",
    "for ifn in range(len(track)):   \n",
    "    fname = track['DateTime_UTC'].iloc[ifn].strftime('%Y')+'/'+track['DateTime_UTC'].iloc[ifn].strftime('%Y%m%d') + '_oltraj_uv_global.nc'\n",
    "    fn = OLTraj_THREDDS_string + fname\n",
    "    \n",
    "    print(\"Reading OLTraj file: \" + fn )\n",
    "\n",
    "    # open OLTraj file\n",
    "    dsAV = xr.open_dataset(fn)\n",
    "\n",
    "    # read OLTraj trajectories corresponding to current location of the cruise track \n",
    "    tmp = dsAV.sel(lon=track['Longitude_degreesE'].iloc[ifn], lat=track['Latitude_degreesN'].iloc[ifn], method=\"nearest\")\n",
    "\n",
    "    # store trajectories for given date\n",
    "    trajlon[ifn] = tmp['trajlon']\n",
    "    trajlat[ifn] = tmp['trajlat']\n",
    "\n"
   ]
  },
  {
   "cell_type": "markdown",
   "metadata": {},
   "source": [
    "### Plot cruise track and Lagrangian trajectories at each station along the track"
   ]
  },
  {
   "cell_type": "code",
   "execution_count": null,
   "metadata": {},
   "outputs": [],
   "source": [
    "# initialise figure\n",
    "fig = plt.figure(figsize=(40,15))\n",
    "ax = fig.add_subplot(111, projection=ccrs.PlateCarree(central_longitude=-25) )\n",
    "\n",
    "lbl_color = 'k'\n",
    "\n",
    "# plot cruise track\n",
    "ax.plot(  track['Longitude_degreesE'], track['Latitude_degreesN'], transform=ccrs.PlateCarree(), lw=2, color='k', ls='--', ms=10 )\n",
    "pc = ax.scatter(  track['Longitude_degreesE'], track['Latitude_degreesN'], s=80, c=track['DateTime_UTC'].dt.dayofyear.values, cmap=cm.get_cmap('cool'), edgecolors='k', transform=ccrs.PlateCarree(), zorder=60, alpha=0.8 )\n",
    "\n",
    "# plot colorbar\n",
    "divider = make_axes_locatable(ax)\n",
    "ax_cb = divider.new_horizontal(size=\"5%\", pad=0.7, axes_class=plt.Axes)\n",
    "fig.add_axes(ax_cb)\n",
    "cb = plt.colorbar(pc, cax=ax_cb)\n",
    "cb.set_label('day of the year', color=lbl_color, fontsize=20)\n",
    "cb.ax.set_yticklabels(track['DateTime_UTC'].dt.dayofyear.values, color=lbl_color, fontsize=14)\n",
    "\n",
    "# plot Lagrangian trajectories\n",
    "for it in range(len(trajlon)):\n",
    "    # backward trajectories\n",
    "    ax.plot(trajlon[it, :30], trajlat[it, :30], color='b', linestyle='-', lw=2, transform=ccrs.PlateCarree(), zorder=10 )\n",
    "    # forward trajectories\n",
    "    ax.plot(trajlon[it, 30:], trajlat[it, 30:], color='r', linestyle='-', lw=2, transform=ccrs.PlateCarree(), zorder=10 )\n",
    "\n",
    "# add continents\n",
    "ax.add_feature(cfeature.NaturalEarthFeature('physical', 'land', '50m', edgecolor='k', facecolor='darkgray'))\n",
    "\n",
    "# set geographical extent of figure\n",
    "ax.set_extent([-75, 5, -60, 60], ccrs.PlateCarree())\n",
    "\n",
    "\n",
    "gl = ax.gridlines(crs=ccrs.PlateCarree(), draw_labels=True, linewidth=1, color='gray', alpha=0.5, linestyle='--')\n",
    "gl.top_labels = False\n",
    "gl.bottom_labels = True\n",
    "gl.left_labels = True\n",
    "gl.right_labels = False\n",
    "gl.xlines = True\n",
    "gl.xlocator = mticker.FixedLocator([-60, -40, -20, 0])\n",
    "gl.ylocator = mticker.FixedLocator(np.arange(-60,60,10))\n",
    "gl.xformatter = LONGITUDE_FORMATTER\n",
    "gl.yformatter = LATITUDE_FORMATTER\n",
    "gl.ylabel_style = {'fontsize': 20, 'color': lbl_color}\n",
    "gl.xlabel_style = {'fontsize': 20, 'color': lbl_color}"
   ]
  },
  {
   "cell_type": "markdown",
   "metadata": {},
   "source": [
    "The blue and red lines represent the backward and forward trajectories sampled during each station (black circles) along the the cruise track (dashed black line)."
   ]
  }
 ],
 "metadata": {
  "kernelspec": {
   "display_name": "Python 3",
   "language": "python",
   "name": "python3"
  },
  "language_info": {
   "codemirror_mode": {
    "name": "ipython",
    "version": 3
   },
   "file_extension": ".py",
   "mimetype": "text/x-python",
   "name": "python",
   "nbconvert_exporter": "python",
   "pygments_lexer": "ipython3",
   "version": "3.8.10"
  }
 },
 "nbformat": 4,
 "nbformat_minor": 4
}
